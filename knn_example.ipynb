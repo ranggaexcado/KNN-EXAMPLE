{
  "nbformat": 4,
  "nbformat_minor": 0,
  "metadata": {
    "colab": {
      "provenance": [],
      "include_colab_link": true
    },
    "kernelspec": {
      "name": "python3",
      "display_name": "Python 3"
    },
    "language_info": {
      "name": "python"
    }
  },
  "cells": [
    {
      "cell_type": "markdown",
      "metadata": {
        "id": "view-in-github",
        "colab_type": "text"
      },
      "source": [
        "<a href=\"https://colab.research.google.com/github/ranggaexcado/KNN-EXAMPLE/blob/main/knn_example.ipynb\" target=\"_parent\"><img src=\"https://colab.research.google.com/assets/colab-badge.svg\" alt=\"Open In Colab\"/></a>"
      ]
    },
    {
      "cell_type": "code",
      "execution_count": null,
      "metadata": {
        "id": "U3hQxwbDTFKA"
      },
      "outputs": [],
      "source": [
        "import pandas as pd\n",
        "import numpy as np\n",
        "from scipy.spatial import distance"
      ]
    },
    {
      "cell_type": "code",
      "source": [
        "# Membuat DataFrame dari dataset yang diberikan\n",
        "data = {\n",
        "    'IPK': [3, 3, 3, 3, 2, 2, 2, 2, 1, 1, 1],\n",
        "    'Psikologi': [3, 2, 2, 1, 3, 2, 2, 1, 3, 2, 1],\n",
        "    'Wawancara': [2, 2, 1, 1, 2, 2, 1, 1, 2, 1, 2],\n",
        "    'Diterima': [1, 1, 1, 0, 1, 1, 1, 0, 1, 0, 1]\n",
        "}\n",
        "df = pd.DataFrame(data)"
      ],
      "metadata": {
        "id": "E8KsqG3m_g81"
      },
      "execution_count": null,
      "outputs": []
    },
    {
      "cell_type": "code",
      "source": [
        "# Menampilkan DataFrame asli\n",
        "print(\"DataFrame Asli:\")\n",
        "print(df)"
      ],
      "metadata": {
        "colab": {
          "base_uri": "https://localhost:8080/"
        },
        "id": "p9nWKU6J_kHH",
        "outputId": "a3bf2b19-7605-46a1-cde0-651221389824"
      },
      "execution_count": null,
      "outputs": [
        {
          "output_type": "stream",
          "name": "stdout",
          "text": [
            "DataFrame Asli:\n",
            "    IPK  Psikologi  Wawancara  Diterima\n",
            "0     3          3          2         1\n",
            "1     3          2          2         1\n",
            "2     3          2          1         1\n",
            "3     3          1          1         0\n",
            "4     2          3          2         1\n",
            "5     2          2          2         1\n",
            "6     2          2          1         1\n",
            "7     2          1          1         0\n",
            "8     1          3          2         1\n",
            "9     1          2          1         0\n",
            "10    1          1          2         1\n"
          ]
        }
      ]
    },
    {
      "cell_type": "code",
      "source": [
        "# Daftar instance baru yang akan diklasifikasikan\n",
        "instances_baru = [\n",
        "    np.array([3, 3, 2]),  # IPK: Bagus, Psikologi: Tinggi, Wawancara: Baik\n",
        "    np.array([2, 2, 1]),  # IPK: Cukup, Psikologi: Sedang, Wawancara: Buruk\n",
        "    np.array([1, 1, 2])   # IPK: Kurang, Psikologi: Rendah, Wawancara: Baik\n",
        "]"
      ],
      "metadata": {
        "id": "ViSssiPW_tlC"
      },
      "execution_count": null,
      "outputs": []
    },
    {
      "cell_type": "code",
      "source": [
        "# Fungsi untuk menghitung jarak Euclidean\n",
        "def euclidean_distance(row, instance_baru):\n",
        "    return distance.euclidean(row[['IPK', 'Psikologi', 'Wawancara']], instance_baru)"
      ],
      "metadata": {
        "id": "kZO3Hkx3_w2l"
      },
      "execution_count": null,
      "outputs": []
    },
    {
      "cell_type": "code",
      "source": [
        "# Menentukan nilai k\n",
        "k = 11"
      ],
      "metadata": {
        "id": "hPoFuatD_0Kb"
      },
      "execution_count": null,
      "outputs": []
    },
    {
      "cell_type": "code",
      "source": [
        "# Mengklasifikasikan setiap instance baru\n",
        "for instance_baru in instances_baru:\n",
        "    # Menambahkan kolom jarak ke DataFrame\n",
        "    df['Distance'] = df.apply(lambda row: euclidean_distance(row, instance_baru), axis=1)"
      ],
      "metadata": {
        "id": "GUDkMCn-_3dd"
      },
      "execution_count": null,
      "outputs": []
    },
    {
      "cell_type": "code",
      "source": [
        "# Mengambil k tetangga terdekat\n",
        "knn = df.nsmallest(k, 'Distance')"
      ],
      "metadata": {
        "id": "-dk0VtbL_5SC"
      },
      "execution_count": null,
      "outputs": []
    },
    {
      "cell_type": "code",
      "source": [
        "# Melakukan voting mayoritas untuk klasifikasi\n",
        "result = knn['Diterima'].value_counts().idxmax()"
      ],
      "metadata": {
        "id": "wfEyq1z3__Kq"
      },
      "execution_count": null,
      "outputs": []
    },
    {
      "cell_type": "code",
      "source": [
        "# Menampilkan tetangga terdekat untuk memastikan proses berjalan dengan benar\n",
        "print(f\"\\n{k} Tetangga Terdekat:\")\n",
        "print(knn)"
      ],
      "metadata": {
        "colab": {
          "base_uri": "https://localhost:8080/"
        },
        "id": "wStQ2-NzBRwC",
        "outputId": "0dd0bca5-fd67-49f1-a94f-42de0ccd5642"
      },
      "execution_count": null,
      "outputs": [
        {
          "output_type": "stream",
          "name": "stdout",
          "text": [
            "\n",
            "11 Tetangga Terdekat:\n",
            "    IPK  Psikologi  Wawancara  Diterima  Distance\n",
            "10    1          1          2         1  0.000000\n",
            "5     2          2          2         1  1.414214\n",
            "7     2          1          1         0  1.414214\n",
            "9     1          2          1         0  1.414214\n",
            "6     2          2          1         1  1.732051\n",
            "8     1          3          2         1  2.000000\n",
            "1     3          2          2         1  2.236068\n",
            "3     3          1          1         0  2.236068\n",
            "4     2          3          2         1  2.236068\n",
            "2     3          2          1         1  2.449490\n",
            "0     3          3          2         1  2.828427\n"
          ]
        }
      ]
    },
    {
      "cell_type": "code",
      "source": [
        "# Melakukan voting mayoritas untuk klasifikasi\n",
        "result = knn['Diterima'].value_counts().idxmax()"
      ],
      "metadata": {
        "id": "YfDPxo6yBs1r"
      },
      "execution_count": null,
      "outputs": []
    },
    {
      "cell_type": "code",
      "source": [
        "print(f'\\nKlasifikasi untuk instance baru {instance_baru.tolist()} adalah: {\"Ya\" if result == 1 else \"Tidak\"}')"
      ],
      "metadata": {
        "colab": {
          "base_uri": "https://localhost:8080/"
        },
        "id": "ksZNCRR7Kyrt",
        "outputId": "daf8e0df-10bd-491f-b08e-4dae416ec9b7"
      },
      "execution_count": null,
      "outputs": [
        {
          "output_type": "stream",
          "name": "stdout",
          "text": [
            "\n",
            "Klasifikasi untuk instance baru [1, 1, 2] adalah: Ya\n"
          ]
        }
      ]
    }
  ]
}